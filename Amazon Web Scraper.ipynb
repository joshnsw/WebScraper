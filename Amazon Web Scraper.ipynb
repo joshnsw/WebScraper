{
 "cells": [
  {
   "cell_type": "code",
   "execution_count": 3,
   "id": "048a3d22",
   "metadata": {},
   "outputs": [],
   "source": [
    "from bs4 import BeautifulSoup\n",
    "import requests\n",
    "import smtplib\n",
    "import time\n",
    "import datetime\n"
   ]
  },
  {
   "cell_type": "code",
   "execution_count": 17,
   "id": "e38b3d38",
   "metadata": {},
   "outputs": [
    {
     "name": "stdout",
     "output_type": "stream",
     "text": [
      "\n",
      "            Panasonic VE-GD27-W Digital Phone (Parent Unit Only/No Child Device) Equipped with Anti-Spunk Phone Function\n",
      "           \n",
      "\n",
      "                        ¥4,280\n",
      "                       \n"
     ]
    }
   ],
   "source": [
    "# connect to website\n",
    "\n",
    "URL = 'https://www.amazon.co.jp/-/en/Panasonic-VE-GD27-W-Equipped-Anti-Spunk-Function/dp/B09CKYRYGF/ref=sr_1_5?crid=1C3D898SBTK6X&keywords=%E9%9B%BB%E8%A9%B1&qid=1654318184&sprefix=phon%2Caps%2C188&sr=8-5'\n",
    "\n",
    "headers= {\"User-Agent\": \"Mozilla/5.0 (Macintosh; Intel Mac OS X 10_15_7) AppleWebKit/605.1.15 (KHTML, like Gecko) Version/15.3 Safari/605.1.15\"};\n",
    "\n",
    "page = requests.get(URL,headers= headers)\n",
    "\n",
    "Soup1 = BeautifulSoup(page.content,\"html.parser\")\n",
    "\n",
    "SoupPretty = BeautifulSoup(Soup1.prettify(),\"html.parser\")\n",
    "\n",
    "titleFind = SoupPretty.find(id='productTitle').get_text()\n",
    "\n",
    "priceFind = SoupPretty.find(class_='a-offscreen').get_text()\n",
    "\n",
    "print(titleFind)\n",
    "print(priceFind)\n",
    "\n"
   ]
  },
  {
   "cell_type": "code",
   "execution_count": 21,
   "id": "6159ecd9",
   "metadata": {},
   "outputs": [
    {
     "name": "stdout",
     "output_type": "stream",
     "text": [
      "2022-06-04\n"
     ]
    }
   ],
   "source": [
    "import datetime\n",
    "today = datetime.date.today()\n",
    "print(today)"
   ]
  },
  {
   "cell_type": "code",
   "execution_count": 18,
   "id": "db563a70",
   "metadata": {},
   "outputs": [
    {
     "name": "stdout",
     "output_type": "stream",
     "text": [
      "4,280 Panasonic VE-GD27-W Digital Phone (Parent Unit Only/No Child Device) Equipped with Anti-Spunk Phone Function\n"
     ]
    }
   ],
   "source": [
    "# format the data \n",
    "\n",
    "price = priceFind.strip()[1:]\n",
    "title = titleFind.strip()\n",
    "\n",
    "print(price,title)"
   ]
  },
  {
   "cell_type": "code",
   "execution_count": 22,
   "id": "ea315cec",
   "metadata": {},
   "outputs": [],
   "source": [
    "import csv\n",
    "\n",
    "header = ['Title','Price','Date']\n",
    "data = [title,price,today]\n",
    "\n",
    "with open('AmazonWebScraperDataset.csv','w',newline='',encoding='UTF8') as f:\n",
    "    writer = csv.writer(f)\n",
    "    writer.writerow(header)\n",
    "    writer.writerow(data)"
   ]
  },
  {
   "cell_type": "code",
   "execution_count": 23,
   "id": "7380ae12",
   "metadata": {},
   "outputs": [
    {
     "name": "stdout",
     "output_type": "stream",
     "text": [
      "                                               Title  Price        Date\n",
      "0  Panasonic VE-GD27-W Digital Phone (Parent Unit...  4,280  2022-06-04\n"
     ]
    }
   ],
   "source": [
    "import pandas as pd\n",
    "df = pd.read_csv('/Users/joshuang/AmazonWebScraperDataset.csv')\n",
    "print(df)"
   ]
  },
  {
   "cell_type": "code",
   "execution_count": null,
   "id": "85aedd1f",
   "metadata": {},
   "outputs": [],
   "source": [
    "#append data\n",
    "\n",
    "with open('AmazonWebScraperDataset.csv','a+',newline='',encoding='UTF8') as f:\n",
    "    writer = csv.writer(f)\n",
    "\n",
    "    writer.writerow(data)"
   ]
  },
  {
   "cell_type": "code",
   "execution_count": null,
   "id": "99fd806d",
   "metadata": {},
   "outputs": [],
   "source": [
    "#automate process\n",
    "\n",
    "def price_checker():\n",
    "\n",
    "URL = 'https://www.amazon.co.jp/-/en/Panasonic-VE-GD27-W-Equipped-Anti-Spunk-Function/dp/B09CKYRYGF/ref=sr_1_5?crid=1C3D898SBTK6X&keywords=%E9%9B%BB%E8%A9%B1&qid=1654318184&sprefix=phon%2Caps%2C188&sr=8-5'\n",
    "\n",
    "headers= {\"User-Agent\": \"Mozilla/5.0 (Macintosh; Intel Mac OS X 10_15_7) AppleWebKit/605.1.15 (KHTML, like Gecko) Version/15.3 Safari/605.1.15\"};\n",
    "\n",
    "page = requests.get(URL,headers= headers)\n",
    "\n",
    "Soup1 = BeautifulSoup(page.content,\"html.parser\")\n",
    "\n",
    "SoupPretty = BeautifulSoup(Soup1.prettify(),\"html.parser\")\n",
    "\n",
    "titleFind = SoupPretty.find(id='productTitle').get_text()\n",
    "\n",
    "priceFind = SoupPretty.find(class_='a-offscreen').get_text()\n",
    "\n",
    "\n",
    "price = priceFind.strip()[1:]\n",
    "title = titleFind.strip()\n",
    "\n",
    "import datetime\n",
    "today = datetime.date.today()\n",
    "\n",
    "header = ['Title','Price','Date']\n",
    "data = [title,price,today]\n",
    "\n",
    "\n",
    "with open('AmazonWebScraperDataset.csv','a+',newline='',encoding='UTF8') as f:\n",
    "    writer = csv.writer(f)\n",
    "\n",
    "    writer.writerow(data)\n",
    "\n",
    "\n",
    "\n"
   ]
  },
  {
   "cell_type": "code",
   "execution_count": null,
   "id": "7e18a236",
   "metadata": {},
   "outputs": [],
   "source": [
    "#check price everyday\n",
    "\n",
    "While(True):\n",
    "    price_checker()\n",
    "    time.sleep(86400)"
   ]
  }
 ],
 "metadata": {
  "kernelspec": {
   "display_name": "Python 3 (ipykernel)",
   "language": "python",
   "name": "python3"
  },
  "language_info": {
   "codemirror_mode": {
    "name": "ipython",
    "version": 3
   },
   "file_extension": ".py",
   "mimetype": "text/x-python",
   "name": "python",
   "nbconvert_exporter": "python",
   "pygments_lexer": "ipython3",
   "version": "3.9.12"
  }
 },
 "nbformat": 4,
 "nbformat_minor": 5
}
